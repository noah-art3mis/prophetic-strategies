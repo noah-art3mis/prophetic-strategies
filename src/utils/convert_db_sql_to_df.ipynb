{
 "cells": [
  {
   "cell_type": "code",
   "execution_count": 58,
   "metadata": {},
   "outputs": [],
   "source": [
    "import pandas as pd\n",
    "import sqlite3\n",
    "\n",
    "DB_PATH = \"../../db/prophetic.db\"\n",
    "TABLE_NAMES = [\n",
    "    \"lacan_book5\",\n",
    "    \"steiner_occult\",\n",
    "    \"mill_liberty\",\n",
    "    \"hegel_mind\",\n",
    "    \"marcus_meditations\",\n",
    "]\n",
    "TABLE = TABLE_NAMES[5]      "
   ]
  },
  {
   "cell_type": "code",
   "execution_count": 59,
   "metadata": {},
   "outputs": [
    {
     "data": {
      "text/plain": [
       "[('book5-chunked88',),\n",
       " ('lacan_book5',),\n",
       " ('steiner_occult',),\n",
       " ('mill_liberty',),\n",
       " ('hegel_mind',),\n",
       " ('marcus_meditations',)]"
      ]
     },
     "execution_count": 59,
     "metadata": {},
     "output_type": "execute_result"
    }
   ],
   "source": [
    "with sqlite3.connect(DB_PATH) as conn:\n",
    "    cursor = conn.cursor()\n",
    "    cursor.execute(\"SELECT name FROM sqlite_master WHERE type='table';\")\n",
    "    tables = cursor.fetchall()\n",
    "\n",
    "tables"
   ]
  },
  {
   "cell_type": "code",
   "execution_count": 60,
   "metadata": {},
   "outputs": [
    {
     "ename": "IndexError",
     "evalue": "list index out of range",
     "output_type": "error",
     "traceback": [
      "\u001b[0;31m---------------------------------------------------------------------------\u001b[0m",
      "\u001b[0;31mIndexError\u001b[0m                                Traceback (most recent call last)",
      "Cell \u001b[0;32mIn[60], line 1\u001b[0m\n\u001b[0;32m----> 1\u001b[0m TABLE \u001b[38;5;241m=\u001b[39m \u001b[43mTABLE_NAMES\u001b[49m\u001b[43m[\u001b[49m\u001b[38;5;241;43m5\u001b[39;49m\u001b[43m]\u001b[49m\n\u001b[1;32m      3\u001b[0m df \u001b[38;5;241m=\u001b[39m pd\u001b[38;5;241m.\u001b[39mread_sql(\u001b[38;5;124mf\u001b[39m\u001b[38;5;124m\"\"\"\u001b[39m\u001b[38;5;124mSELECT * FROM \u001b[39m\u001b[38;5;132;01m{\u001b[39;00mTABLE\u001b[38;5;132;01m}\u001b[39;00m\u001b[38;5;124m\"\"\"\u001b[39m, con\u001b[38;5;241m=\u001b[39msqlite3\u001b[38;5;241m.\u001b[39mconnect(DB_PATH))\n\u001b[1;32m      4\u001b[0m df\u001b[38;5;241m.\u001b[39mhead()\n",
      "\u001b[0;31mIndexError\u001b[0m: list index out of range"
     ]
    }
   ],
   "source": [
    "\n",
    "df = pd.read_sql(f\"\"\"SELECT * FROM {TABLE}\"\"\", con=sqlite3.connect(DB_PATH))\n",
    "df.head()"
   ]
  },
  {
   "cell_type": "code",
   "execution_count": 61,
   "metadata": {},
   "outputs": [
    {
     "name": "stdout",
     "output_type": "stream",
     "text": [
      "<class 'pandas.core.frame.DataFrame'>\n",
      "RangeIndex: 416 entries, 0 to 415\n",
      "Data columns (total 7 columns):\n",
      " #   Column            Non-Null Count  Dtype   \n",
      "---  ------            --------------  -----   \n",
      " 0   book              416 non-null    category\n",
      " 1   sentence          416 non-null    int64   \n",
      " 2   chapter           0 non-null      object  \n",
      " 3   sentence_chapter  0 non-null      object  \n",
      " 4   content           416 non-null    object  \n",
      " 5   embedding         416 non-null    object  \n",
      " 6   author            416 non-null    category\n",
      "dtypes: category(2), int64(1), object(4)\n",
      "memory usage: 17.4+ KB\n"
     ]
    }
   ],
   "source": [
    "df.info()"
   ]
  },
  {
   "cell_type": "code",
   "execution_count": 62,
   "metadata": {},
   "outputs": [
    {
     "data": {
      "text/plain": [
       "book                     592\n",
       "sentence                3328\n",
       "chapter                 9984\n",
       "sentence_chapter        9984\n",
       "content               387147\n",
       "embedding           14254651\n",
       "author                   596\n",
       "dtype: int64"
      ]
     },
     "execution_count": 62,
     "metadata": {},
     "output_type": "execute_result"
    }
   ],
   "source": [
    "df.memory_usage(index=False, deep=True)"
   ]
  },
  {
   "cell_type": "code",
   "execution_count": 63,
   "metadata": {},
   "outputs": [
    {
     "data": {
      "text/plain": [
       "book                     592\n",
       "sentence                3328\n",
       "chapter                 9984\n",
       "sentence_chapter        9984\n",
       "content               387147\n",
       "embedding           14254651\n",
       "author                   596\n",
       "dtype: int64"
      ]
     },
     "execution_count": 63,
     "metadata": {},
     "output_type": "execute_result"
    }
   ],
   "source": [
    "# change data type to category\n",
    "df[\"book\"] = df[\"book\"].astype(\"category\")\n",
    "df[\"author\"] = df[\"author\"].astype(\"category\")\n",
    "df.memory_usage(index=False, deep=True)"
   ]
  },
  {
   "cell_type": "code",
   "execution_count": 64,
   "metadata": {},
   "outputs": [],
   "source": [
    "# save\n",
    "# df.to_feather(f\"../../db/{TABLE}.feather\")"
   ]
  }
 ],
 "metadata": {
  "kernelspec": {
   "display_name": ".venv",
   "language": "python",
   "name": "python3"
  },
  "language_info": {
   "codemirror_mode": {
    "name": "ipython",
    "version": 3
   },
   "file_extension": ".py",
   "mimetype": "text/x-python",
   "name": "python",
   "nbconvert_exporter": "python",
   "pygments_lexer": "ipython3",
   "version": "3.10.12"
  }
 },
 "nbformat": 4,
 "nbformat_minor": 2
}

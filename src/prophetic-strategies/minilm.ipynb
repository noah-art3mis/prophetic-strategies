{
 "cells": [
  {
   "cell_type": "code",
   "execution_count": 16,
   "metadata": {},
   "outputs": [
    {
     "name": "stderr",
     "output_type": "stream",
     "text": [
      "/home/art3mis/projects/prophetic-strategies/.venv/lib/python3.10/site-packages/transformers/tokenization_utils_base.py:1601: FutureWarning: `clean_up_tokenization_spaces` was not set. It will be set to `True` by default. This behavior will be depracted in transformers v4.45, and will be then set to `False` by default. For more details check this issue: https://github.com/huggingface/transformers/issues/31884\n",
      "  warnings.warn(\n"
     ]
    }
   ],
   "source": [
    "from sentence_transformers import SentenceTransformer\n",
    "import sqlite3\n",
    "from typing import Generator\n",
    "from pathlib import Path\n",
    "import numpy as np\n",
    "\n",
    "DATABASE = Path(\"../../db/book5.db\")\n",
    "TABLE_NAME = \"book5\"\n",
    "model = SentenceTransformer(\"all-MiniLM-L6-v2\")"
   ]
  },
  {
   "cell_type": "code",
   "execution_count": 17,
   "metadata": {},
   "outputs": [
    {
     "name": "stdout",
     "output_type": "stream",
     "text": [
      "[(0, 'book', 'TEXT', 0, None, 0), (1, 'sentence', 'INTEGER', 0, None, 0), (2, 'chapter', 'INTEGER', 0, None, 0), (3, 'sentence_chapter', 'INTEGER', 0, None, 0), (4, 'content', 'TEXT', 0, None, 0), (5, 'embedding', 'TEXT', 0, None, 0), (6, 'embedding_minilm', 'BLOB', 0, None, 0)]\n"
     ]
    }
   ],
   "source": [
    "def check_db_col_names(db, table):\n",
    "    with sqlite3.connect(db) as conn:\n",
    "        cursor = conn.cursor()\n",
    "        cursor.execute(f\"\"\"PRAGMA table_info({table});\"\"\")\n",
    "        print(cursor.fetchall())\n",
    "\n",
    "\n",
    "check_db_col_names(DATABASE, TABLE_NAME)"
   ]
  },
  {
   "cell_type": "code",
   "execution_count": 18,
   "metadata": {},
   "outputs": [],
   "source": [
    "def alter_table():\n",
    "    with sqlite3.connect(DATABASE) as conn:\n",
    "        cursor = conn.cursor()\n",
    "        cursor.execute(\n",
    "            \"\"\"ALTER TABLE book5\n",
    "            DROP COLUMN embedding_minilm;\n",
    "        \"\"\"\n",
    "        )\n",
    "        cursor.execute(\n",
    "            \"\"\"\n",
    "            ALTER TABLE book5\n",
    "            ADD COLUMN embedding_minilm TEXT\n",
    "        \"\"\"\n",
    "        )\n",
    "\n",
    "        conn.commit()"
   ]
  },
  {
   "cell_type": "code",
   "execution_count": null,
   "metadata": {},
   "outputs": [],
   "source": [
    "# alter_table()"
   ]
  },
  {
   "cell_type": "code",
   "execution_count": null,
   "metadata": {},
   "outputs": [],
   "source": [
    "check_db_col_names(DATABASE, TABLE_NAME)"
   ]
  },
  {
   "cell_type": "code",
   "execution_count": 19,
   "metadata": {},
   "outputs": [],
   "source": [
    "def add_embedding_to_db(db, table_name):\n",
    "    with sqlite3.connect(DATABASE) as conn:\n",
    "        cursor = conn.cursor()\n",
    "        cursor.execute(f\"\"\"SELECT sentence, content FROM {TABLE_NAME}\"\"\")\n",
    "        rows = cursor.fetchall()\n",
    "\n",
    "        for row in rows:\n",
    "            row_id = row[0]\n",
    "            sentence = row[1]\n",
    "\n",
    "            embedding = model.encode(sentence)\n",
    "\n",
    "            cursor.execute(\n",
    "                f\"\"\"\n",
    "                UPDATE {TABLE_NAME}\n",
    "                SET embedding_minilm = ?\n",
    "                WHERE sentence = ?\n",
    "            \"\"\",\n",
    "                (embedding, row_id),\n",
    "            )\n",
    "\n",
    "            conn.commit()"
   ]
  },
  {
   "cell_type": "code",
   "execution_count": null,
   "metadata": {},
   "outputs": [],
   "source": [
    "# add_embedding_to_db(DATABASE, TABLE_NAME)"
   ]
  },
  {
   "cell_type": "code",
   "execution_count": 12,
   "metadata": {},
   "outputs": [],
   "source": [
    "from sentence_transformers import SentenceTransformer\n",
    "import sqlite3\n",
    "from pathlib import Path\n",
    "import pandas as pd\n",
    "import numpy as np\n",
    "\n",
    "\n",
    "def similarity_minilm(question):\n",
    "    DATABASE = Path(\"../../db/book5.db\")\n",
    "    TABLE_NAME = \"book5\"\n",
    "    model = SentenceTransformer(\"all-MiniLM-L6-v2\")\n",
    "\n",
    "    qv = model.encode(question)\n",
    "    df = get_wv(DATABASE, TABLE_NAME)\n",
    "    similarities = model.similarity([qv], (df[\"embedding_minilm\"]))\n",
    "    df[\"similarity\"] = similarities\n",
    "\n",
    "\n",
    "def get_wv(db: Path, table_name: str) -> pd.DataFrame:\n",
    "    with sqlite3.connect(db) as conn:\n",
    "        rows = pd.read_sql(f\"\"\"SELECT * FROM {table_name}\"\"\", conn)\n",
    "        return rows\n"
   ]
  },
  {
   "cell_type": "code",
   "execution_count": 20,
   "metadata": {},
   "outputs": [
    {
     "data": {
      "text/html": [
       "<div>\n",
       "<style scoped>\n",
       "    .dataframe tbody tr th:only-of-type {\n",
       "        vertical-align: middle;\n",
       "    }\n",
       "\n",
       "    .dataframe tbody tr th {\n",
       "        vertical-align: top;\n",
       "    }\n",
       "\n",
       "    .dataframe thead th {\n",
       "        text-align: right;\n",
       "    }\n",
       "</style>\n",
       "<table border=\"1\" class=\"dataframe\">\n",
       "  <thead>\n",
       "    <tr style=\"text-align: right;\">\n",
       "      <th></th>\n",
       "      <th>book</th>\n",
       "      <th>sentence</th>\n",
       "      <th>chapter</th>\n",
       "      <th>sentence_chapter</th>\n",
       "      <th>content</th>\n",
       "      <th>embedding</th>\n",
       "      <th>embedding_minilm</th>\n",
       "    </tr>\n",
       "  </thead>\n",
       "  <tbody>\n",
       "    <tr>\n",
       "      <th>0</th>\n",
       "      <td>Book V - The Formations of the Unconscious (19...</td>\n",
       "      <td>1</td>\n",
       "      <td>1</td>\n",
       "      <td>1</td>\n",
       "      <td>This year we have taken the formations of the ...</td>\n",
       "      <td>b'\\x00\\x00\\x00\\xc0bZ\\x97\\xbf\\x00\\x00\\x00\\x80\\x...</td>\n",
       "      <td>None</td>\n",
       "    </tr>\n",
       "    <tr>\n",
       "      <th>1</th>\n",
       "      <td>Book V - The Formations of the Unconscious (19...</td>\n",
       "      <td>2</td>\n",
       "      <td>1</td>\n",
       "      <td>2</td>\n",
       "      <td>Those of you - I think it was the majority - w...</td>\n",
       "      <td>b'\\x00\\x00\\x00`\"\\xc5\\x8d?\\x00\\x00\\x00 \\xe7\\xb5...</td>\n",
       "      <td>None</td>\n",
       "    </tr>\n",
       "    <tr>\n",
       "      <th>2</th>\n",
       "      <td>Book V - The Formations of the Unconscious (19...</td>\n",
       "      <td>3</td>\n",
       "      <td>1</td>\n",
       "      <td>3</td>\n",
       "      <td>A certain number of you - I am only expressing...</td>\n",
       "      <td>b'\\x00\\x00\\x00@\\xe8J\\x94?\\x00\\x00\\x00 \\x0c\\xd3...</td>\n",
       "      <td>None</td>\n",
       "    </tr>\n",
       "    <tr>\n",
       "      <th>3</th>\n",
       "      <td>Book V - The Formations of the Unconscious (19...</td>\n",
       "      <td>4</td>\n",
       "      <td>1</td>\n",
       "      <td>4</td>\n",
       "      <td>Those who have had the courage to do so will b...</td>\n",
       "      <td>b'\\x00\\x00\\x00@f\\xd9\\x98?\\x00\\x00\\x00`:\\\\{?\\x0...</td>\n",
       "      <td>None</td>\n",
       "    </tr>\n",
       "    <tr>\n",
       "      <th>4</th>\n",
       "      <td>Book V - The Formations of the Unconscious (19...</td>\n",
       "      <td>5</td>\n",
       "      <td>1</td>\n",
       "      <td>5</td>\n",
       "      <td>In a way it is a modest enough ambition for me...</td>\n",
       "      <td>b'\\x00\\x00\\x00\\xc0(D\\xad?\\x00\\x00\\x00 \\xd1\\xd0...</td>\n",
       "      <td>None</td>\n",
       "    </tr>\n",
       "    <tr>\n",
       "      <th>...</th>\n",
       "      <td>...</td>\n",
       "      <td>...</td>\n",
       "      <td>...</td>\n",
       "      <td>...</td>\n",
       "      <td>...</td>\n",
       "      <td>...</td>\n",
       "      <td>...</td>\n",
       "    </tr>\n",
       "    <tr>\n",
       "      <th>3755</th>\n",
       "      <td>Book V - The Formations of the Unconscious (19...</td>\n",
       "      <td>3756</td>\n",
       "      <td>28</td>\n",
       "      <td>118</td>\n",
       "      <td>Experience proves that we have the most contra...</td>\n",
       "      <td>b'\\x00\\x00\\x00\\x80\\xe0\\xe7\\xa0?\\x00\\x00\\x00\\x8...</td>\n",
       "      <td>None</td>\n",
       "    </tr>\n",
       "    <tr>\n",
       "      <th>3756</th>\n",
       "      <td>Book V - The Formations of the Unconscious (19...</td>\n",
       "      <td>3757</td>\n",
       "      <td>28</td>\n",
       "      <td>119</td>\n",
       "      <td>I think that in fact these objections which ar...</td>\n",
       "      <td>b'\\x00\\x00\\x00\\x80d\\xfc\\x9d?\\x00\\x00\\x00`\\xb6C...</td>\n",
       "      <td>None</td>\n",
       "    </tr>\n",
       "    <tr>\n",
       "      <th>3757</th>\n",
       "      <td>Book V - The Formations of the Unconscious (19...</td>\n",
       "      <td>3758</td>\n",
       "      <td>28</td>\n",
       "      <td>120</td>\n",
       "      <td>In fact, I believe that if something allows us...</td>\n",
       "      <td>b'\\x00\\x00\\x00 \\x98\\xcd\\x97?\\x00\\x00\\x00 \\x8f\\...</td>\n",
       "      <td>None</td>\n",
       "    </tr>\n",
       "    <tr>\n",
       "      <th>3758</th>\n",
       "      <td>Book V - The Formations of the Unconscious (19...</td>\n",
       "      <td>3759</td>\n",
       "      <td>28</td>\n",
       "      <td>121</td>\n",
       "      <td>It is at this level that the Christian command...</td>\n",
       "      <td>b'\\x00\\x00\\x00\\x80!\\xd1A\\xbf\\x00\\x00\\x00\\x00\\x...</td>\n",
       "      <td>None</td>\n",
       "    </tr>\n",
       "    <tr>\n",
       "      <th>3759</th>\n",
       "      <td>Book V - The Formations of the Unconscious (19...</td>\n",
       "      <td>3760</td>\n",
       "      <td>28</td>\n",
       "      <td>122</td>\n",
       "      <td>It is the same thing again that another wisdom...</td>\n",
       "      <td>b'\\x00\\x00\\x00`\\xed\\x16\\xaa?\\x00\\x00\\x00`\\xc7b...</td>\n",
       "      <td>None</td>\n",
       "    </tr>\n",
       "  </tbody>\n",
       "</table>\n",
       "<p>3760 rows × 7 columns</p>\n",
       "</div>"
      ],
      "text/plain": [
       "                                                   book  sentence  chapter  \\\n",
       "0     Book V - The Formations of the Unconscious (19...         1        1   \n",
       "1     Book V - The Formations of the Unconscious (19...         2        1   \n",
       "2     Book V - The Formations of the Unconscious (19...         3        1   \n",
       "3     Book V - The Formations of the Unconscious (19...         4        1   \n",
       "4     Book V - The Formations of the Unconscious (19...         5        1   \n",
       "...                                                 ...       ...      ...   \n",
       "3755  Book V - The Formations of the Unconscious (19...      3756       28   \n",
       "3756  Book V - The Formations of the Unconscious (19...      3757       28   \n",
       "3757  Book V - The Formations of the Unconscious (19...      3758       28   \n",
       "3758  Book V - The Formations of the Unconscious (19...      3759       28   \n",
       "3759  Book V - The Formations of the Unconscious (19...      3760       28   \n",
       "\n",
       "      sentence_chapter                                            content  \\\n",
       "0                    1  This year we have taken the formations of the ...   \n",
       "1                    2  Those of you - I think it was the majority - w...   \n",
       "2                    3  A certain number of you - I am only expressing...   \n",
       "3                    4  Those who have had the courage to do so will b...   \n",
       "4                    5  In a way it is a modest enough ambition for me...   \n",
       "...                ...                                                ...   \n",
       "3755               118  Experience proves that we have the most contra...   \n",
       "3756               119  I think that in fact these objections which ar...   \n",
       "3757               120  In fact, I believe that if something allows us...   \n",
       "3758               121  It is at this level that the Christian command...   \n",
       "3759               122  It is the same thing again that another wisdom...   \n",
       "\n",
       "                                              embedding embedding_minilm  \n",
       "0     b'\\x00\\x00\\x00\\xc0bZ\\x97\\xbf\\x00\\x00\\x00\\x80\\x...             None  \n",
       "1     b'\\x00\\x00\\x00`\"\\xc5\\x8d?\\x00\\x00\\x00 \\xe7\\xb5...             None  \n",
       "2     b'\\x00\\x00\\x00@\\xe8J\\x94?\\x00\\x00\\x00 \\x0c\\xd3...             None  \n",
       "3     b'\\x00\\x00\\x00@f\\xd9\\x98?\\x00\\x00\\x00`:\\\\{?\\x0...             None  \n",
       "4     b'\\x00\\x00\\x00\\xc0(D\\xad?\\x00\\x00\\x00 \\xd1\\xd0...             None  \n",
       "...                                                 ...              ...  \n",
       "3755  b'\\x00\\x00\\x00\\x80\\xe0\\xe7\\xa0?\\x00\\x00\\x00\\x8...             None  \n",
       "3756  b'\\x00\\x00\\x00\\x80d\\xfc\\x9d?\\x00\\x00\\x00`\\xb6C...             None  \n",
       "3757  b'\\x00\\x00\\x00 \\x98\\xcd\\x97?\\x00\\x00\\x00 \\x8f\\...             None  \n",
       "3758  b'\\x00\\x00\\x00\\x80!\\xd1A\\xbf\\x00\\x00\\x00\\x00\\x...             None  \n",
       "3759  b'\\x00\\x00\\x00`\\xed\\x16\\xaa?\\x00\\x00\\x00`\\xc7b...             None  \n",
       "\n",
       "[3760 rows x 7 columns]"
      ]
     },
     "execution_count": 20,
     "metadata": {},
     "output_type": "execute_result"
    }
   ],
   "source": [
    "DATABASE = Path(\"../../db/book5.db\")\n",
    "TABLE_NAME = \"book5\"\n",
    "df = get_wv(DATABASE, TABLE_NAME)\n",
    "df"
   ]
  },
  {
   "cell_type": "code",
   "execution_count": 13,
   "metadata": {},
   "outputs": [
    {
     "name": "stderr",
     "output_type": "stream",
     "text": [
      "/home/art3mis/projects/prophetic-strategies/.venv/lib/python3.10/site-packages/transformers/tokenization_utils_base.py:1601: FutureWarning: `clean_up_tokenization_spaces` was not set. It will be set to `True` by default. This behavior will be depracted in transformers v4.45, and will be then set to `False` by default. For more details check this issue: https://github.com/huggingface/transformers/issues/31884\n",
      "  warnings.warn(\n"
     ]
    },
    {
     "ename": "TypeError",
     "evalue": "can't convert np.ndarray of type numpy.object_. The only supported types are: float64, float32, float16, complex64, complex128, int64, int32, int16, int8, uint64, uint32, uint16, uint8, and bool.",
     "output_type": "error",
     "traceback": [
      "\u001b[0;31m---------------------------------------------------------------------------\u001b[0m",
      "\u001b[0;31mTypeError\u001b[0m                                 Traceback (most recent call last)",
      "Cell \u001b[0;32mIn[13], line 1\u001b[0m\n\u001b[0;32m----> 1\u001b[0m \u001b[43msimilarity_minilm\u001b[49m\u001b[43m(\u001b[49m\u001b[38;5;124;43m\"\u001b[39;49m\u001b[38;5;124;43mfreud\u001b[39;49m\u001b[38;5;124;43m\"\u001b[39;49m\u001b[43m)\u001b[49m\n",
      "Cell \u001b[0;32mIn[12], line 15\u001b[0m, in \u001b[0;36msimilarity_minilm\u001b[0;34m(question)\u001b[0m\n\u001b[1;32m     13\u001b[0m qv \u001b[38;5;241m=\u001b[39m model\u001b[38;5;241m.\u001b[39mencode(question)\n\u001b[1;32m     14\u001b[0m df \u001b[38;5;241m=\u001b[39m get_wv(DATABASE, TABLE_NAME)\n\u001b[0;32m---> 15\u001b[0m similarities \u001b[38;5;241m=\u001b[39m \u001b[43mmodel\u001b[49m\u001b[38;5;241;43m.\u001b[39;49m\u001b[43msimilarity\u001b[49m\u001b[43m(\u001b[49m\u001b[43m[\u001b[49m\u001b[43mqv\u001b[49m\u001b[43m]\u001b[49m\u001b[43m,\u001b[49m\u001b[43m \u001b[49m\u001b[43mnp\u001b[49m\u001b[38;5;241;43m.\u001b[39;49m\u001b[43marray\u001b[49m\u001b[43m(\u001b[49m\u001b[43mdf\u001b[49m\u001b[43m[\u001b[49m\u001b[38;5;124;43m\"\u001b[39;49m\u001b[38;5;124;43membedding_minilm\u001b[39;49m\u001b[38;5;124;43m\"\u001b[39;49m\u001b[43m]\u001b[49m\u001b[43m)\u001b[49m\u001b[43m)\u001b[49m\n\u001b[1;32m     16\u001b[0m df[\u001b[38;5;124m\"\u001b[39m\u001b[38;5;124msimilarity\u001b[39m\u001b[38;5;124m\"\u001b[39m] \u001b[38;5;241m=\u001b[39m similarities\n",
      "File \u001b[0;32m~/projects/prophetic-strategies/.venv/lib/python3.10/site-packages/sentence_transformers/util.py:93\u001b[0m, in \u001b[0;36mcos_sim\u001b[0;34m(a, b)\u001b[0m\n\u001b[1;32m     82\u001b[0m \u001b[38;5;250m\u001b[39m\u001b[38;5;124;03m\"\"\"\u001b[39;00m\n\u001b[1;32m     83\u001b[0m \u001b[38;5;124;03mComputes the cosine similarity between two tensors.\u001b[39;00m\n\u001b[1;32m     84\u001b[0m \n\u001b[0;32m   (...)\u001b[0m\n\u001b[1;32m     90\u001b[0m \u001b[38;5;124;03m    Tensor: Matrix with res[i][j] = cos_sim(a[i], b[j])\u001b[39;00m\n\u001b[1;32m     91\u001b[0m \u001b[38;5;124;03m\"\"\"\u001b[39;00m\n\u001b[1;32m     92\u001b[0m a \u001b[38;5;241m=\u001b[39m _convert_to_batch_tensor(a)\n\u001b[0;32m---> 93\u001b[0m b \u001b[38;5;241m=\u001b[39m \u001b[43m_convert_to_batch_tensor\u001b[49m\u001b[43m(\u001b[49m\u001b[43mb\u001b[49m\u001b[43m)\u001b[49m\n\u001b[1;32m     95\u001b[0m a_norm \u001b[38;5;241m=\u001b[39m normalize_embeddings(a)\n\u001b[1;32m     96\u001b[0m b_norm \u001b[38;5;241m=\u001b[39m normalize_embeddings(b)\n",
      "File \u001b[0;32m~/projects/prophetic-strategies/.venv/lib/python3.10/site-packages/sentence_transformers/util.py:62\u001b[0m, in \u001b[0;36m_convert_to_batch_tensor\u001b[0;34m(a)\u001b[0m\n\u001b[1;32m     52\u001b[0m \u001b[38;5;28;01mdef\u001b[39;00m \u001b[38;5;21m_convert_to_batch_tensor\u001b[39m(a: Union[\u001b[38;5;28mlist\u001b[39m, np\u001b[38;5;241m.\u001b[39mndarray, Tensor]) \u001b[38;5;241m-\u001b[39m\u001b[38;5;241m>\u001b[39m Tensor:\n\u001b[1;32m     53\u001b[0m \u001b[38;5;250m    \u001b[39m\u001b[38;5;124;03m\"\"\"\u001b[39;00m\n\u001b[1;32m     54\u001b[0m \u001b[38;5;124;03m    Converts the input data to a tensor with a batch dimension.\u001b[39;00m\n\u001b[1;32m     55\u001b[0m \n\u001b[0;32m   (...)\u001b[0m\n\u001b[1;32m     60\u001b[0m \u001b[38;5;124;03m        Tensor: The converted tensor with a batch dimension.\u001b[39;00m\n\u001b[1;32m     61\u001b[0m \u001b[38;5;124;03m    \"\"\"\u001b[39;00m\n\u001b[0;32m---> 62\u001b[0m     a \u001b[38;5;241m=\u001b[39m \u001b[43m_convert_to_tensor\u001b[49m\u001b[43m(\u001b[49m\u001b[43ma\u001b[49m\u001b[43m)\u001b[49m\n\u001b[1;32m     63\u001b[0m     a \u001b[38;5;241m=\u001b[39m _convert_to_batch(a)\n\u001b[1;32m     64\u001b[0m     \u001b[38;5;28;01mreturn\u001b[39;00m a\n",
      "File \u001b[0;32m~/projects/prophetic-strategies/.venv/lib/python3.10/site-packages/sentence_transformers/util.py:33\u001b[0m, in \u001b[0;36m_convert_to_tensor\u001b[0;34m(a)\u001b[0m\n\u001b[1;32m     23\u001b[0m \u001b[38;5;250m\u001b[39m\u001b[38;5;124;03m\"\"\"\u001b[39;00m\n\u001b[1;32m     24\u001b[0m \u001b[38;5;124;03mConverts the input `a` to a PyTorch tensor if it is not already a tensor.\u001b[39;00m\n\u001b[1;32m     25\u001b[0m \n\u001b[0;32m   (...)\u001b[0m\n\u001b[1;32m     30\u001b[0m \u001b[38;5;124;03m    Tensor: The converted tensor.\u001b[39;00m\n\u001b[1;32m     31\u001b[0m \u001b[38;5;124;03m\"\"\"\u001b[39;00m\n\u001b[1;32m     32\u001b[0m \u001b[38;5;28;01mif\u001b[39;00m \u001b[38;5;129;01mnot\u001b[39;00m \u001b[38;5;28misinstance\u001b[39m(a, Tensor):\n\u001b[0;32m---> 33\u001b[0m     a \u001b[38;5;241m=\u001b[39m \u001b[43mtorch\u001b[49m\u001b[38;5;241;43m.\u001b[39;49m\u001b[43mtensor\u001b[49m\u001b[43m(\u001b[49m\u001b[43ma\u001b[49m\u001b[43m)\u001b[49m\n\u001b[1;32m     34\u001b[0m \u001b[38;5;28;01mreturn\u001b[39;00m a\n",
      "\u001b[0;31mTypeError\u001b[0m: can't convert np.ndarray of type numpy.object_. The only supported types are: float64, float32, float16, complex64, complex128, int64, int32, int16, int8, uint64, uint32, uint16, uint8, and bool."
     ]
    }
   ],
   "source": [
    "\n",
    "similarity_minilm(\"freud\")"
   ]
  },
  {
   "cell_type": "code",
   "execution_count": null,
   "metadata": {},
   "outputs": [],
   "source": []
  }
 ],
 "metadata": {
  "kernelspec": {
   "display_name": ".venv",
   "language": "python",
   "name": "python3"
  },
  "language_info": {
   "codemirror_mode": {
    "name": "ipython",
    "version": 3
   },
   "file_extension": ".py",
   "mimetype": "text/x-python",
   "name": "python",
   "nbconvert_exporter": "python",
   "pygments_lexer": "ipython3",
   "version": "3.10.12"
  }
 },
 "nbformat": 4,
 "nbformat_minor": 2
}

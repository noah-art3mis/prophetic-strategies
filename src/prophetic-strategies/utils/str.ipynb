{
 "cells": [
  {
   "cell_type": "code",
   "execution_count": 10,
   "metadata": {},
   "outputs": [],
   "source": [
    "import pandas as pd\n",
    "import numpy as np"
   ]
  },
  {
   "cell_type": "code",
   "execution_count": 15,
   "metadata": {},
   "outputs": [
    {
     "data": {
      "text/plain": [
       "numpy.ndarray"
      ]
     },
     "execution_count": 15,
     "metadata": {},
     "output_type": "execute_result"
    }
   ],
   "source": [
    "DB = \"../../../db/lacan_book5.feather\"\n",
    "\n",
    "df = pd.read_feather(DB)\n",
    "type(df.iloc[0][\"embedding\"])"
   ]
  },
  {
   "cell_type": "code",
   "execution_count": 14,
   "metadata": {},
   "outputs": [
    {
     "data": {
      "text/plain": [
       "0       [-0.022805731743574142, 0.05942283570766449, 0...\n",
       "1       [0.014536160044372082, 0.044356558471918106, -...\n",
       "2       [0.01981699839234352, 0.015539259649813175, -0...\n",
       "3       [0.024266812950372696, 0.006679752375930548, 0...\n",
       "4       [0.0571606382727623, -0.008210786618292332, -0...\n",
       "                              ...                        \n",
       "3755    [0.03301908075809479, 0.0021370304748415947, 0...\n",
       "3756    [0.02928311377763748, 0.005679809954017401, 0....\n",
       "3757    [0.02324521727859974, 0.002820281544700265, -0...\n",
       "3758    [-0.0005437291692942381, 0.04634508490562439, ...\n",
       "3759    [0.05095617100596428, -0.005953577812761068, -...\n",
       "Name: embedding, Length: 3760, dtype: object"
      ]
     },
     "execution_count": 14,
     "metadata": {},
     "output_type": "execute_result"
    }
   ],
   "source": [
    "df[\"embedding\"]"
   ]
  },
  {
   "cell_type": "code",
   "execution_count": 11,
   "metadata": {},
   "outputs": [
    {
     "data": {
      "text/plain": [
       "0       [-0.022805731743574142, 0.05942283570766449, 0...\n",
       "1       [0.014536160044372082, 0.044356558471918106, -...\n",
       "2       [0.01981699839234352, 0.015539259649813175, -0...\n",
       "3       [0.024266812950372696, 0.006679752375930548, 0...\n",
       "4       [0.0571606382727623, -0.008210786618292332, -0...\n",
       "                              ...                        \n",
       "3755    [0.03301908075809479, 0.0021370304748415947, 0...\n",
       "3756    [0.02928311377763748, 0.005679809954017401, 0....\n",
       "3757    [0.02324521727859974, 0.002820281544700265, -0...\n",
       "3758    [-0.0005437291692942381, 0.04634508490562439, ...\n",
       "3759    [0.05095617100596428, -0.005953577812761068, -...\n",
       "Name: embedding, Length: 3760, dtype: object"
      ]
     },
     "execution_count": 11,
     "metadata": {},
     "output_type": "execute_result"
    }
   ],
   "source": [
    "df[\"embedding\"] = df[\"embedding\"].apply(_decode_binary_data)\n"
   ]
  },
  {
   "cell_type": "code",
   "execution_count": 12,
   "metadata": {},
   "outputs": [],
   "source": [
    "# df.to_feather(DB)"
   ]
  },
  {
   "cell_type": "code",
   "execution_count": null,
   "metadata": {},
   "outputs": [],
   "source": []
  }
 ],
 "metadata": {
  "kernelspec": {
   "display_name": ".venv",
   "language": "python",
   "name": "python3"
  },
  "language_info": {
   "codemirror_mode": {
    "name": "ipython",
    "version": 3
   },
   "file_extension": ".py",
   "mimetype": "text/x-python",
   "name": "python",
   "nbconvert_exporter": "python",
   "pygments_lexer": "ipython3",
   "version": "3.10.12"
  }
 },
 "nbformat": 4,
 "nbformat_minor": 2
}

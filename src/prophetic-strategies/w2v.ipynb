{
 "cells": [
  {
   "cell_type": "code",
   "execution_count": 4,
   "metadata": {},
   "outputs": [],
   "source": [
    "import gensim\n",
    "import gensim.models\n",
    "from gensim import utils\n",
    "import sqlite3\n",
    "\n",
    "\n",
    "class IterCorpus:\n",
    "    def __init__(self, db, table_name):\n",
    "        self.db = db\n",
    "        self.table_name = table_name\n",
    "\n",
    "    def __iter__(self):\n",
    "        with sqlite3.connect(self.db) as conn:\n",
    "            cursor = conn.cursor()\n",
    "            cursor.execute(f\"\"\"SELECT * FROM {self.table_name}\"\"\")\n",
    "\n",
    "            for row in cursor:\n",
    "                content = row[4]  # content col of book5 table\n",
    "                yield utils.simple_preprocess(content)"
   ]
  },
  {
   "cell_type": "code",
   "execution_count": 6,
   "metadata": {},
   "outputs": [],
   "source": [
    "# sentences = IterCorpus(\"../../db/book5.db\", \"book5\")\n",
    "# model = gensim.models.Word2Vec(sentences=sentences)\n",
    "# model.save(\"word2vec.model\")"
   ]
  },
  {
   "cell_type": "code",
   "execution_count": 10,
   "metadata": {},
   "outputs": [],
   "source": [
    "import gensim\n",
    "\n",
    "model = gensim.models.word2vec.Word2Vec.load(\"../../db/word2vec.model\")"
   ]
  },
  {
   "cell_type": "code",
   "execution_count": null,
   "metadata": {},
   "outputs": [],
   "source": []
  }
 ],
 "metadata": {
  "kernelspec": {
   "display_name": ".venv",
   "language": "python",
   "name": "python3"
  },
  "language_info": {
   "codemirror_mode": {
    "name": "ipython",
    "version": 3
   },
   "file_extension": ".py",
   "mimetype": "text/x-python",
   "name": "python",
   "nbconvert_exporter": "python",
   "pygments_lexer": "ipython3",
   "version": "3.10.12"
  }
 },
 "nbformat": 4,
 "nbformat_minor": 2
}
